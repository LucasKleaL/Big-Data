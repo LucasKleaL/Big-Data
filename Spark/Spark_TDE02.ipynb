{
  "nbformat": 4,
  "nbformat_minor": 0,
  "metadata": {
    "colab": {
      "name": "Untitled2.ipynb",
      "provenance": [],
      "collapsed_sections": []
    },
    "kernelspec": {
      "name": "python3",
      "display_name": "Python 3"
    },
    "language_info": {
      "name": "python"
    },
    "accelerator": "GPU"
  },
  "cells": [
    {
      "cell_type": "markdown",
      "metadata": {
        "id": "89DB7-lMex_N"
      },
      "source": [
        "#Configurando"
      ]
    },
    {
      "cell_type": "code",
      "metadata": {
        "colab": {
          "base_uri": "https://localhost:8080/"
        },
        "id": "fSJbs1l_eus1",
        "outputId": "ff2370c6-e25c-4aef-e884-10217b53bd61"
      },
      "source": [
        "!pip install pyspark"
      ],
      "execution_count": null,
      "outputs": [
        {
          "output_type": "stream",
          "name": "stdout",
          "text": [
            "Collecting pyspark\n",
            "  Downloading pyspark-3.2.0.tar.gz (281.3 MB)\n",
            "\u001b[K     |████████████████████████████████| 281.3 MB 41 kB/s \n",
            "\u001b[?25hCollecting py4j==0.10.9.2\n",
            "  Downloading py4j-0.10.9.2-py2.py3-none-any.whl (198 kB)\n",
            "\u001b[K     |████████████████████████████████| 198 kB 39.5 MB/s \n",
            "\u001b[?25hBuilding wheels for collected packages: pyspark\n",
            "  Building wheel for pyspark (setup.py) ... \u001b[?25l\u001b[?25hdone\n",
            "  Created wheel for pyspark: filename=pyspark-3.2.0-py2.py3-none-any.whl size=281805912 sha256=8da086d79952690d0a9e802185cb2e1b600d86d1b4970f11586b8c20f74b7c80\n",
            "  Stored in directory: /root/.cache/pip/wheels/0b/de/d2/9be5d59d7331c6c2a7c1b6d1a4f463ce107332b1ecd4e80718\n",
            "Successfully built pyspark\n",
            "Installing collected packages: py4j, pyspark\n",
            "Successfully installed py4j-0.10.9.2 pyspark-3.2.0\n"
          ]
        }
      ]
    },
    {
      "cell_type": "code",
      "metadata": {
        "colab": {
          "base_uri": "https://localhost:8080/"
        },
        "id": "PH4qPM7BexW0",
        "outputId": "5a59a8bb-89fb-4350-a392-67389431c4ea"
      },
      "source": [
        "import pyspark\n",
        "import shutil\n",
        "from pyspark.sql import SparkSession\n",
        "from pyspark import SparkFiles #permite baixar arquivos\n",
        "\n",
        "# criar uma sessão\n",
        "spark = SparkSession.builder.appName('TDE2BD').getOrCreate()\n",
        "\n",
        "# criar um contexto\n",
        "sc = spark.sparkContext\n",
        "\n",
        "# obtencao dos dados\n",
        "base_url = 'http://www.ppgia.pucpr.br/~jean.barddal/bigdata/'\n",
        "arquivos = ['transactions_sample.csv']\n",
        "\n",
        "urls = [base_url + x for x in arquivos]\n",
        "for url in urls:\n",
        "  print(url)\n",
        "  sc.addFile(url)\n",
        "\n",
        "# Carregar os dados em um RDD\n",
        "rdd = sc.textFile('file://' + SparkFiles.get('transactions_sample.csv'))"
      ],
      "execution_count": null,
      "outputs": [
        {
          "output_type": "stream",
          "name": "stdout",
          "text": [
            "http://www.ppgia.pucpr.br/~jean.barddal/bigdata/transactions_sample.csv\n"
          ]
        }
      ]
    },
    {
      "cell_type": "markdown",
      "metadata": {
        "id": "ZbmkG7XtfC-F"
      },
      "source": [
        "#1. The number of transactions involving Brazil;"
      ]
    },
    {
      "cell_type": "code",
      "metadata": {
        "colab": {
          "base_uri": "https://localhost:8080/"
        },
        "id": "JxrH-qu8fEmE",
        "outputId": "5cb01fc1-b4fa-416e-abcd-8ebe31960b0f"
      },
      "source": [
        "# Ignorando o cabeçalho\n",
        "rdd_sem_cabecalho = rdd.filter(lambda x: not x.startswith('country_or_area'))\n",
        "rdd_sem_cabecalho.take(5)"
      ],
      "execution_count": null,
      "outputs": [
        {
          "output_type": "execute_result",
          "data": {
            "text/plain": [
              "['Afghanistan;2016;010410;Sheep, live;Export;6088;2339;Number of items;51;01_live_animals',\n",
              " 'Afghanistan;2016;010420;Goats, live;Export;3958;984;Number of items;53;01_live_animals',\n",
              " 'Afghanistan;2008;010210;Bovine animals, live pure-bred breeding;Import;1026804;272;Number of items;3769;01_live_animals',\n",
              " 'Albania;2016;010290;Bovine animals, live, except pure-bred breeding;Import;2414533;1114023;Number of items;6853;01_live_animals',\n",
              " 'Albania;2016;010392;Swine, live except pure-bred breeding > 50 kg;Import;14265937;9484953;Number of items;96040;01_live_animals']"
            ]
          },
          "metadata": {},
          "execution_count": 3
        }
      ]
    },
    {
      "cell_type": "code",
      "metadata": {
        "id": "NkyX_wJafIDp"
      },
      "source": [
        "# para cada linha, verificar se a posição 0 é igual a Brasil\n",
        "#se for, mantemos a linha, senão, ignoramos a linha\n",
        "\n",
        "rdd_Brasil = rdd.filter(lambda l: l.split(\";\")[0] == 'Brazil')"
      ],
      "execution_count": null,
      "outputs": []
    },
    {
      "cell_type": "code",
      "metadata": {
        "id": "uOGU_HdGfKNM",
        "colab": {
          "base_uri": "https://localhost:8080/"
        },
        "outputId": "5c58b310-d3d3-44ab-fa9d-f79aef66a5e4"
      },
      "source": [
        "rdd_Brasil.take(5)\n",
        "rdd_Brasil.count()"
      ],
      "execution_count": null,
      "outputs": [
        {
          "output_type": "execute_result",
          "data": {
            "text/plain": [
              "550"
            ]
          },
          "metadata": {},
          "execution_count": 5
        }
      ]
    },
    {
      "cell_type": "markdown",
      "metadata": {
        "id": "hsLeoqZXfMG7"
      },
      "source": [
        "#2. The number of transactions per year;"
      ]
    },
    {
      "cell_type": "code",
      "metadata": {
        "id": "r9wzsqIMfPkl",
        "colab": {
          "base_uri": "https://localhost:8080/"
        },
        "outputId": "104c757d-5a06-4e65-ee36-54e4b7841737"
      },
      "source": [
        "rdd_Anos = rdd_sem_cabecalho.map(lambda x: int(x.split(';')[1]))\n",
        "rdd_Anos.take(5)\n",
        "# criar um pair rdd nesse formato (ano, (numero de transacoes))\n",
        "\n",
        "pairdd = rdd_Anos.map(lambda x: (x, 1))\n",
        "pairdd.take(5)"
      ],
      "execution_count": null,
      "outputs": [
        {
          "output_type": "execute_result",
          "data": {
            "text/plain": [
              "[(2016, 1), (2016, 1), (2008, 1), (2016, 1), (2016, 1)]"
            ]
          },
          "metadata": {},
          "execution_count": 6
        }
      ]
    },
    {
      "cell_type": "code",
      "metadata": {
        "id": "YomRm-MkfRTD",
        "colab": {
          "base_uri": "https://localhost:8080/"
        },
        "outputId": "6f89fc81-6137-4e75-b72d-a4856c71c478"
      },
      "source": [
        "contagem = pairdd.reduceByKey(lambda x, y: x+y)\n",
        "contagem.take(5)"
      ],
      "execution_count": null,
      "outputs": [
        {
          "output_type": "execute_result",
          "data": {
            "text/plain": [
              "[(2016, 354), (2008, 433), (2014, 499), (2012, 509), (2010, 474)]"
            ]
          },
          "metadata": {},
          "execution_count": 7
        }
      ]
    },
    {
      "cell_type": "markdown",
      "metadata": {
        "id": "tCP5-_sjfSsr"
      },
      "source": [
        "#3. The most commercialized commodity (summing the quantities) in 2016, per flow type."
      ]
    },
    {
      "cell_type": "code",
      "metadata": {
        "id": "AYh73WcffWBT",
        "colab": {
          "base_uri": "https://localhost:8080/"
        },
        "outputId": "79160385-a866-4292-cde4-5daa7fe1e293"
      },
      "source": [
        "# Ignorando o cabeçalho\n",
        "rdd_sem_cabecalho = rdd.filter(lambda x: not x.startswith('country_or_area'))\n",
        "rdd_sem_cabecalho.take(5)"
      ],
      "execution_count": null,
      "outputs": [
        {
          "output_type": "execute_result",
          "data": {
            "text/plain": [
              "['Afghanistan;2016;010410;Sheep, live;Export;6088;2339;Number of items;51;01_live_animals',\n",
              " 'Afghanistan;2016;010420;Goats, live;Export;3958;984;Number of items;53;01_live_animals',\n",
              " 'Afghanistan;2008;010210;Bovine animals, live pure-bred breeding;Import;1026804;272;Number of items;3769;01_live_animals',\n",
              " 'Albania;2016;010290;Bovine animals, live, except pure-bred breeding;Import;2414533;1114023;Number of items;6853;01_live_animals',\n",
              " 'Albania;2016;010392;Swine, live except pure-bred breeding > 50 kg;Import;14265937;9484953;Number of items;96040;01_live_animals']"
            ]
          },
          "metadata": {},
          "execution_count": 8
        }
      ]
    },
    {
      "cell_type": "code",
      "metadata": {
        "id": "ntFB1g-JmEG-"
      },
      "source": [
        "# filtra pelo ano de 2016\n",
        "rdd_2016 = rdd.filter(lambda l: l.split(\";\")[1] == '2016')\n"
      ],
      "execution_count": null,
      "outputs": []
    },
    {
      "cell_type": "code",
      "metadata": {
        "id": "bq4ji4nofs6O",
        "colab": {
          "base_uri": "https://localhost:8080/"
        },
        "outputId": "e70ad93f-d73d-4cf8-92ff-83a3f8ea1c1f"
      },
      "source": [
        "# para cada linha, verificar se a posição 1 é igual a 2016\n",
        "#se for, mantemos a linha, senão, ignoramos a linha\n",
        "\n",
        "#prddtupla = rdd_2016.map(montaTupla)\n",
        "rdd_2016 = rdd_2016.filter(lambda x: x.split(\";\")[8] != \"\")\n",
        "pairdd = rdd_2016.map(lambda x: ((x.split(\";\")[3], x.split(\";\")[4]), int(x.split(\";\")[8])))\n",
        "somas = pairdd.reduceByKey(lambda x, y: x + y)\n",
        "\n",
        "pairdd2 = somas.map(lambda x: (x[0][1], (x[0][0], x[1])))\n",
        "maior = pairdd2.reduceByKey(lambda x, y: x if x[1] > y[1] else y)\n",
        "\n",
        "maior.take(5)"
      ],
      "execution_count": null,
      "outputs": [
        {
          "output_type": "execute_result",
          "data": {
            "text/plain": [
              "[('Import', ('Animals, live, except farm animals', 15521160322)),\n",
              " ('Export', ('Fowls, live domestic < 185 grams', 148808219)),\n",
              " ('Re-Export', ('Sheep, live', 4900)),\n",
              " ('Re-Import', ('Horses, live except pure-bred breeding', 150))]"
            ]
          },
          "metadata": {},
          "execution_count": 10
        }
      ]
    },
    {
      "cell_type": "markdown",
      "metadata": {
        "id": "9yGuTOYj3Y9u"
      },
      "source": [
        "#4. The average of commodity values per year"
      ]
    },
    {
      "cell_type": "code",
      "metadata": {
        "id": "7m3b03xa3aol"
      },
      "source": [
        "IX_YEAR = 1\n",
        "IX_COMMODITY = 3\n",
        "IX_PRICE = 5\n",
        "\n",
        "def montaTuplaAvgComm(x):\n",
        "  \n",
        "  campos = x.split(\";\")\n",
        "\n",
        "  year = campos[IX_YEAR]\n",
        "  comm = campos[IX_COMMODITY]\n",
        "  price = float(campos[IX_PRICE])\n",
        "\n",
        "  yearComm = year + \" \" + comm\n",
        "\n",
        "  return (yearComm, (price, 1))\n",
        "\n",
        "prdd = rdd_sem_cabecalho.map(montaTuplaAvgComm)"
      ],
      "execution_count": null,
      "outputs": []
    },
    {
      "cell_type": "code",
      "metadata": {
        "colab": {
          "base_uri": "https://localhost:8080/"
        },
        "id": "BSr6piPA3h4V",
        "outputId": "8437608f-4cd3-4202-e6ce-53f61792e969"
      },
      "source": [
        "sum = prdd.reduceByKey(lambda x,y: (x[0] + y[0], x[1] + y[1]))\n",
        "\n",
        "avg = sum.mapValues(lambda x: x[0]/x[1])\n",
        "\n",
        "avg.take(5)"
      ],
      "execution_count": null,
      "outputs": [
        {
          "output_type": "execute_result",
          "data": {
            "text/plain": [
              "[('2008 Bovine animals, live pure-bred breeding', 11892512.942857143),\n",
              " ('2016 Swine, live except pure-bred breeding > 50 kg', 52862984.75),\n",
              " ('2016 Fowls, live domestic < 185 grams', 8461560.114285715),\n",
              " ('2016 Fowls, live domestic > 185 grams', 15575716.277777778),\n",
              " ('2016 Poultry, live except domestic fowls, > 185 grams', 1151334.2)]"
            ]
          },
          "metadata": {},
          "execution_count": 12
        }
      ]
    },
    {
      "cell_type": "markdown",
      "metadata": {
        "id": "lWEUJeda2EuV"
      },
      "source": [
        "#5. The average price of commodities per unit type, year, and category in the export flow in Brazil;"
      ]
    },
    {
      "cell_type": "code",
      "metadata": {
        "colab": {
          "base_uri": "https://localhost:8080/"
        },
        "id": "6r1KlY9y2YDG",
        "outputId": "3b30f739-da1a-4b75-c209-8e0eb07e6085"
      },
      "source": [
        "prdd_filtro = rdd_sem_cabecalho.filter(lambda x: x.split(\";\")[0] == 'Brazil' and x.split(\";\")[4] == 'Export')\n",
        "\n",
        "prdd_filtro.take(5)\n",
        "\n",
        "prdd = prdd_filtro.map(lambda x: (x.split(\";\")[7] + ', ' + x.split(\";\")[1] + ', ' + x.split(\";\")[9], (float(x.split(\";\")[5]), 1)))\n",
        "\n",
        "prdd.take(5)\n",
        "\n",
        "soma = prdd.reduceByKey(lambda x,y: (x[0] + y[0], x[1] + y[1]))\n",
        "soma.take(5)\n",
        "\n",
        "avg = soma.mapValues(lambda x: x[0]/x[1])\n",
        "\n",
        "avg.take(5)"
      ],
      "execution_count": null,
      "outputs": [
        {
          "output_type": "execute_result",
          "data": {
            "text/plain": [
              "[('Number of items, 2016, 01_live_animals', 28375283.4),\n",
              " ('Number of items, 2014, 01_live_animals', 92774914.625),\n",
              " ('Number of items, 2013, 01_live_animals', 86955326.77777778),\n",
              " ('Number of items, 2012, 01_live_animals', 58415213.72727273),\n",
              " ('Number of items, 2010, 01_live_animals', 77475318.1111111)]"
            ]
          },
          "metadata": {},
          "execution_count": 13
        }
      ]
    },
    {
      "cell_type": "markdown",
      "metadata": {
        "id": "DYNhFnyW39cs"
      },
      "source": [
        "#6. The commodity with the highest price per unit type and year."
      ]
    },
    {
      "cell_type": "code",
      "metadata": {
        "id": "2ugWYGfh4DXV"
      },
      "source": [
        "IX_YEAR = 1;\n",
        "IX_PRICE = 5;\n",
        "IX_UNIT_TYPE = 7;\n",
        "\n",
        "# criar pair rdd (ano, (preço, unit_type))\n",
        "def montaTuplaHighest(x):\n",
        "\n",
        "  campos = x.split(\";\")\n",
        "\n",
        "  year = campos[IX_YEAR]\n",
        "  price = float(campos[IX_PRICE])\n",
        "  unitType = campos[IX_UNIT_TYPE]\n",
        "\n",
        "  yearUnitType = year + \" \" + unitType\n",
        "\n",
        "  return (yearUnitType, price)\n",
        "\n",
        "prdd = rdd_sem_cabecalho.map(montaTuplaHighest)"
      ],
      "execution_count": null,
      "outputs": []
    },
    {
      "cell_type": "code",
      "metadata": {
        "colab": {
          "base_uri": "https://localhost:8080/"
        },
        "id": "5BCL9CK84LXt",
        "outputId": "4beaa711-fda4-4ded-ebe0-f58aad8ea917"
      },
      "source": [
        "highest = prdd.reduceByKey(max)\n",
        "highest.take(5)"
      ],
      "execution_count": null,
      "outputs": [
        {
          "output_type": "execute_result",
          "data": {
            "text/plain": [
              "[('2014 Number of items', 1798687283.0),\n",
              " ('2013 Number of items', 1299072023.0),\n",
              " ('2012 No Quantity', 154905473.0),\n",
              " ('2011 Number of items', 873639517.0),\n",
              " ('2011 No Quantity', 353547579.0)]"
            ]
          },
          "metadata": {},
          "execution_count": 15
        }
      ]
    },
    {
      "cell_type": "markdown",
      "metadata": {
        "id": "s4nmJka62WE1"
      },
      "source": [
        "#7. The number of transactions per flow type and year.\n"
      ]
    },
    {
      "cell_type": "code",
      "metadata": {
        "colab": {
          "base_uri": "https://localhost:8080/"
        },
        "id": "Io_j3LwX2KSe",
        "outputId": "5cfa4676-96df-4fd1-e753-f6131bdd98e6"
      },
      "source": [
        "prdd = rdd_sem_cabecalho.map(lambda x: ((x.split(\";\")[4], (x.split(\";\")[1])),1))\n",
        "\n",
        "prdd.take(5)\n",
        "\n",
        "somas = prdd.reduceByKey(lambda x,y: x + y)\n",
        "\n",
        "somas.take(5)\n"
      ],
      "execution_count": null,
      "outputs": [
        {
          "output_type": "execute_result",
          "data": {
            "text/plain": [
              "[(('Export', '2016'), 140),\n",
              " (('Import', '2016'), 191),\n",
              " (('Import', '2015'), 298),\n",
              " (('Export', '2015'), 181),\n",
              " (('Import', '2014'), 296)]"
            ]
          },
          "metadata": {},
          "execution_count": 16
        }
      ]
    }
  ]
}