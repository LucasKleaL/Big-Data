{
  "nbformat": 4,
  "nbformat_minor": 0,
  "metadata": {
    "colab": {
      "name": "Cópia de SparkSqlTde.ipynb",
      "provenance": [],
      "collapsed_sections": []
    },
    "kernelspec": {
      "name": "python3",
      "display_name": "Python 3"
    },
    "language_info": {
      "name": "python"
    }
  },
  "cells": [
    {
      "cell_type": "code",
      "metadata": {
        "colab": {
          "base_uri": "https://localhost:8080/"
        },
        "id": "hHgcpgT_q9Cq",
        "outputId": "b2e9d327-ef35-487e-9733-99a50d70155d"
      },
      "source": [
        "!pip install pyspark\n",
        "\n",
        "import pyspark\n",
        "from pyspark.sql import SparkSession\n",
        "from pyspark import SparkFiles # permite baixar arquivos\n",
        "\n",
        "# criar uma sessão\n",
        "spark = SparkSession.builder.appName('TdeSparkSql').getOrCreate()\n",
        "\n",
        "# criar um contexto\n",
        "sc = spark.sparkContext"
      ],
      "execution_count": null,
      "outputs": [
        {
          "output_type": "stream",
          "name": "stdout",
          "text": [
            "Collecting pyspark\n",
            "  Downloading pyspark-3.2.0.tar.gz (281.3 MB)\n",
            "\u001b[K     |████████████████████████████████| 281.3 MB 9.0 kB/s \n",
            "\u001b[?25hCollecting py4j==0.10.9.2\n",
            "  Downloading py4j-0.10.9.2-py2.py3-none-any.whl (198 kB)\n",
            "\u001b[K     |████████████████████████████████| 198 kB 51.4 MB/s \n",
            "\u001b[?25hBuilding wheels for collected packages: pyspark\n",
            "  Building wheel for pyspark (setup.py) ... \u001b[?25l\u001b[?25hdone\n",
            "  Created wheel for pyspark: filename=pyspark-3.2.0-py2.py3-none-any.whl size=281805912 sha256=9a117ba11d141c6c2c2d613d8526ce416fa647e76410a5be5aca57e237620913\n",
            "  Stored in directory: /root/.cache/pip/wheels/0b/de/d2/9be5d59d7331c6c2a7c1b6d1a4f463ce107332b1ecd4e80718\n",
            "Successfully built pyspark\n",
            "Installing collected packages: py4j, pyspark\n",
            "Successfully installed py4j-0.10.9.2 pyspark-3.2.0\n"
          ]
        }
      ]
    },
    {
      "cell_type": "code",
      "metadata": {
        "id": "1TSGV8EryKTZ"
      },
      "source": [
        "# obtencao dos dados\n",
        "base_url = 'http://www.ppgia.pucpr.br/~jean.barddal/bigdata/'\n",
        "arquivos = ['transactions_sample.csv']\n",
        "\n",
        "urls = [base_url + x for x in arquivos]\n",
        "for url in urls:\n",
        "  # print(url)\n",
        "  sc.addFile(url)"
      ],
      "execution_count": null,
      "outputs": []
    },
    {
      "cell_type": "markdown",
      "metadata": {
        "id": "HVTfi2MD0jhZ"
      },
      "source": [
        "#1. The number of transactions involving Brazil;"
      ]
    },
    {
      "cell_type": "code",
      "metadata": {
        "id": "w5eg-mX40l05"
      },
      "source": [
        "from pyspark.sql.functions import col, max, avg, count, min, sum\n",
        "\n",
        "df = spark.read.csv(\"file://\" + SparkFiles.get(\"transactions_sample.csv\"),\n",
        "                    header=True,\n",
        "                    inferSchema=True,\n",
        "                    sep=';')"
      ],
      "execution_count": null,
      "outputs": []
    },
    {
      "cell_type": "code",
      "metadata": {
        "colab": {
          "base_uri": "https://localhost:8080/"
        },
        "id": "kM470JkL0qUp",
        "outputId": "993ca1de-6ae2-43c8-f0ab-220175119248"
      },
      "source": [
        "df.printSchema()"
      ],
      "execution_count": null,
      "outputs": [
        {
          "output_type": "stream",
          "name": "stdout",
          "text": [
            "root\n",
            " |-- country_or_area: string (nullable = true)\n",
            " |-- year: integer (nullable = true)\n",
            " |-- comm_code: integer (nullable = true)\n",
            " |-- commodity: string (nullable = true)\n",
            " |-- flow: string (nullable = true)\n",
            " |-- trade_usd: integer (nullable = true)\n",
            " |-- weight_kg: integer (nullable = true)\n",
            " |-- quantity_name: string (nullable = true)\n",
            " |-- quantity: long (nullable = true)\n",
            " |-- category: string (nullable = true)\n",
            "\n"
          ]
        }
      ]
    },
    {
      "cell_type": "code",
      "metadata": {
        "colab": {
          "base_uri": "https://localhost:8080/"
        },
        "id": "Ho4uAhiH0wN5",
        "outputId": "dac03000-8394-43ed-e59a-505ec50173c6"
      },
      "source": [
        "df.createOrReplaceTempView(\"view_table\")\n",
        "\n",
        "dfSelect = df.select(col(\"country_or_area\")).filter(col(\"country_or_area\") == \"Brazil\")\n",
        "\n",
        "dfSelect.show(5)"
      ],
      "execution_count": null,
      "outputs": [
        {
          "output_type": "stream",
          "name": "stdout",
          "text": [
            "+---------------+\n",
            "|country_or_area|\n",
            "+---------------+\n",
            "|         Brazil|\n",
            "|         Brazil|\n",
            "|         Brazil|\n",
            "|         Brazil|\n",
            "|         Brazil|\n",
            "+---------------+\n",
            "only showing top 5 rows\n",
            "\n"
          ]
        }
      ]
    },
    {
      "cell_type": "code",
      "metadata": {
        "colab": {
          "base_uri": "https://localhost:8080/"
        },
        "id": "pJwxQcSO0ypx",
        "outputId": "a328fcfd-4a98-4791-f4d1-ed3dede54f49"
      },
      "source": [
        "dfSelect.count()\n"
      ],
      "execution_count": null,
      "outputs": [
        {
          "output_type": "execute_result",
          "data": {
            "text/plain": [
              "550"
            ]
          },
          "metadata": {},
          "execution_count": 6
        }
      ]
    },
    {
      "cell_type": "markdown",
      "metadata": {
        "id": "odib_Hba019L"
      },
      "source": [
        "#2. The number of transactions per year;"
      ]
    },
    {
      "cell_type": "code",
      "metadata": {
        "colab": {
          "base_uri": "https://localhost:8080/"
        },
        "id": "QQV5hT6P03JJ",
        "outputId": "f24133f3-0724-46c7-bc16-df4b2fdc9056"
      },
      "source": [
        "dfSelect = df.select(col(\"year\"))\n",
        "\n",
        "dfSelect.show(5)"
      ],
      "execution_count": null,
      "outputs": [
        {
          "output_type": "stream",
          "name": "stdout",
          "text": [
            "+----+\n",
            "|year|\n",
            "+----+\n",
            "|2016|\n",
            "|2016|\n",
            "|2008|\n",
            "|2016|\n",
            "|2016|\n",
            "+----+\n",
            "only showing top 5 rows\n",
            "\n"
          ]
        }
      ]
    },
    {
      "cell_type": "code",
      "metadata": {
        "colab": {
          "base_uri": "https://localhost:8080/"
        },
        "id": "sTtzxSJq09aR",
        "outputId": "7b885ccc-c016-4fb9-e420-089225522273"
      },
      "source": [
        "df.groupBy(col(\"year\")).agg(count(\"*\").alias(\"transactions\")).show(10)"
      ],
      "execution_count": null,
      "outputs": [
        {
          "output_type": "stream",
          "name": "stdout",
          "text": [
            "+----+------------+\n",
            "|year|transactions|\n",
            "+----+------------+\n",
            "|1990|          91|\n",
            "|2003|         411|\n",
            "|2007|         447|\n",
            "|2015|         506|\n",
            "|2006|         401|\n",
            "|2013|         510|\n",
            "|1997|         342|\n",
            "|1988|          23|\n",
            "|1994|         199|\n",
            "|2014|         499|\n",
            "+----+------------+\n",
            "only showing top 10 rows\n",
            "\n"
          ]
        }
      ]
    },
    {
      "cell_type": "markdown",
      "metadata": {
        "id": "xv9ALpm-5rqY"
      },
      "source": [
        "#3. The most commercialized commodity (summing the quantities) in 2016, per flow type."
      ]
    },
    {
      "cell_type": "code",
      "metadata": {
        "colab": {
          "base_uri": "https://localhost:8080/"
        },
        "id": "CRQ-oFUz5tc4",
        "outputId": "73b1ce00-7568-444f-aced-78702ecf68cc"
      },
      "source": [
        "from pyspark.sql import functions as F\n",
        "\n",
        "# Filtrando pelo ano de 2016\n",
        "dfSelect = df.select(col(\"*\")).filter(col(\"year\") == \"2016\")\n",
        "\n",
        "# Agrupando por fluxo e commodity e somando as colunas de quantidade no df filtrado por ano\n",
        "somas = dfSelect.groupBy(\"flow\", \"commodity\").agg(F.sum(\"quantity\").alias('quantidade total')).orderBy(col('quantidade total').desc()).show(5)\n"
      ],
      "execution_count": null,
      "outputs": [
        {
          "output_type": "stream",
          "name": "stdout",
          "text": [
            "+------+--------------------+----------------+\n",
            "|  flow|           commodity|quantidade total|\n",
            "+------+--------------------+----------------+\n",
            "|Import|Animals, live, ex...|     15521160322|\n",
            "|Export|Fowls, live domes...|       148808219|\n",
            "|Import|Fowls, live domes...|       122898701|\n",
            "|Import|Fowls, live domes...|        78076421|\n",
            "|Export|Fowls, live domes...|        37596533|\n",
            "+------+--------------------+----------------+\n",
            "only showing top 5 rows\n",
            "\n"
          ]
        }
      ]
    },
    {
      "cell_type": "markdown",
      "metadata": {
        "id": "bPeWa5xmgdPp"
      },
      "source": [
        "#4. The average of commodity values per year;"
      ]
    },
    {
      "cell_type": "code",
      "metadata": {
        "colab": {
          "base_uri": "https://localhost:8080/"
        },
        "id": "6nD1nSWYgmgg",
        "outputId": "6554fd1d-1358-4c72-b87c-9474bdf9689c"
      },
      "source": [
        "mediaPorAno = df.groupBy(\"year\", \"commodity\").agg(avg(\"trade_usd\").alias('média de commodities')).orderBy(col('year').desc()).show(5)\n"
      ],
      "execution_count": null,
      "outputs": [
        {
          "output_type": "stream",
          "name": "stdout",
          "text": [
            "+----+--------------------+--------------------+\n",
            "|year|           commodity|média de commodities|\n",
            "+----+--------------------+--------------------+\n",
            "|2016|Horses, live pure...|   6428837.258064516|\n",
            "|2016|Swine, live excep...|         1.5910932E7|\n",
            "|2016|Swine, live pure-...|          3172956.25|\n",
            "|2016|         Sheep, live|   9138491.043478262|\n",
            "|2016|Horses, live exce...|1.5337869030303031E7|\n",
            "+----+--------------------+--------------------+\n",
            "only showing top 5 rows\n",
            "\n"
          ]
        }
      ]
    },
    {
      "cell_type": "markdown",
      "metadata": {
        "id": "72c_MDXIiaXg"
      },
      "source": [
        "#5. The average price of commodities per unit type, year, and category in the export flow in Brazil;"
      ]
    },
    {
      "cell_type": "code",
      "metadata": {
        "colab": {
          "base_uri": "https://localhost:8080/"
        },
        "id": "xds56JCoidCI",
        "outputId": "2ea2da55-250a-47aa-b305-e9225cf0327e"
      },
      "source": [
        "# Filtrando pelo país e flow export\n",
        "dfSelect = df.select(col(\"*\")).filter(col(\"country_or_area\") == \"Brazil\")\n",
        "# Filtrando pelo flow export\n",
        "dfSelect = dfSelect.select(col(\"*\")).filter(col(\"flow\") == \"Export\")\n",
        "\n",
        "# Fazendo a média por unidade, ano e categoria\n",
        "dfSelect.groupBy(\"quantity_name\", \"year\", \"category\").agg(avg(\"trade_usd\").alias('média')).orderBy(col('year').desc()).show(5)\n"
      ],
      "execution_count": null,
      "outputs": [
        {
          "output_type": "stream",
          "name": "stdout",
          "text": [
            "+---------------+----+---------------+--------------------+\n",
            "|  quantity_name|year|       category|               média|\n",
            "+---------------+----+---------------+--------------------+\n",
            "|Number of items|2016|01_live_animals|        2.83752834E7|\n",
            "|Number of items|2015|01_live_animals|2.5286922545454547E7|\n",
            "|Number of items|2014|01_live_animals|      9.2774914625E7|\n",
            "|Number of items|2013|01_live_animals| 8.695532677777778E7|\n",
            "|Number of items|2012|01_live_animals| 5.841521372727273E7|\n",
            "+---------------+----+---------------+--------------------+\n",
            "only showing top 5 rows\n",
            "\n"
          ]
        }
      ]
    },
    {
      "cell_type": "markdown",
      "metadata": {
        "id": "pBp-cMJlmBd4"
      },
      "source": [
        "#6. The commodity with the highest price per unit type and year;"
      ]
    },
    {
      "cell_type": "code",
      "metadata": {
        "colab": {
          "base_uri": "https://localhost:8080/"
        },
        "id": "w9-zn7qKmCsp",
        "outputId": "95d2bbfa-74fd-4fb3-f16a-a1bf342d8542"
      },
      "source": [
        "# Fazendo a média por unidade, ano e categoria\n",
        "df.groupBy(col(\"quantity_name\"), col(\"year\")).agg(max(\"trade_usd\").alias('maior valor')).show(5)"
      ],
      "execution_count": null,
      "outputs": [
        {
          "output_type": "stream",
          "name": "stdout",
          "text": [
            "+-------------------+----+-----------+\n",
            "|      quantity_name|year|maior valor|\n",
            "+-------------------+----+-----------+\n",
            "|        No Quantity|1997|   98024384|\n",
            "|    Number of items|1990|  563872733|\n",
            "|    Number of items|2002| 1154904975|\n",
            "|Weight in kilograms|1998|  191161776|\n",
            "|    Number of items|2011|  873639517|\n",
            "+-------------------+----+-----------+\n",
            "only showing top 5 rows\n",
            "\n"
          ]
        }
      ]
    },
    {
      "cell_type": "markdown",
      "metadata": {
        "id": "Ss08VZD6nS1Q"
      },
      "source": [
        "#7. The number of transactions per flow type and year."
      ]
    },
    {
      "cell_type": "code",
      "metadata": {
        "colab": {
          "base_uri": "https://localhost:8080/"
        },
        "id": "QoepEcTenWyn",
        "outputId": "c21a2ab2-ea88-4eca-f0fa-04ffd4c25756"
      },
      "source": [
        "df.groupBy(col('flow'), col('year')).agg(count('*').alias('Contagem')).orderBy(col('year').desc()).show(5)"
      ],
      "execution_count": null,
      "outputs": [
        {
          "output_type": "stream",
          "name": "stdout",
          "text": [
            "+---------+----+--------+\n",
            "|     flow|year|Contagem|\n",
            "+---------+----+--------+\n",
            "|Re-Export|2016|      13|\n",
            "|   Import|2016|     191|\n",
            "|Re-Import|2016|      10|\n",
            "|   Export|2016|     140|\n",
            "|Re-Import|2015|      15|\n",
            "+---------+----+--------+\n",
            "only showing top 5 rows\n",
            "\n"
          ]
        }
      ]
    }
  ]
}